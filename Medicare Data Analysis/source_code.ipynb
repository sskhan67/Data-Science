
#Medicare data set is public data set maintained by google, To query those data set we need to use BigQuery using python 

# Big query helper 

import bq_helper
from bq_helper import BigQueryHelper
medicare = bq_helper.BigQueryHelper(active_project="bigquery-public-data",
                                   dataset_name="cms_medicare")
bq_assistant = BigQueryHelper("bigquery-public-data", "cms_medicare")
bq_assistant.list_tables()
bq_assistant.head("inpatient_charges_2015", num_rows=15)
bq_assistant.table_schema("inpatient_charges_2015")





#What is the *total number of medications prescribed in each state*


query1 = """SELECT
  nppes_provider_state AS state,
  ROUND(SUM(total_claim_count) / 1e6) AS total_claim_count_millions
FROM
  `bigquery-public-data.cms_medicare.part_d_prescriber_2015`
GROUP BY
  state
ORDER BY
  total_claim_count_millions DESC
LIMIT
  5; # to show 5 states data 
        """
response1 = medicare.query_to_pandas_safe(query1)
response1.head(5)

# to plot data 

df=response1

import matplotlib.pyplot as plt
import numpy as np
import matplotlib.pyplot as plt
import seaborn as sns
plt.style.use('ggplot')
sns.set_context("notebook",font_scale=1.5, rc={"lines.linewidth":2.5})
f,g=plt.subplots(figsize=(12,9))
g=sns.barplot(x="state",y="total_claim_count_millions",data=df,palette="Blues_d")
g.set_xticklabels(g.get_xticklabels(),rotation=30)
plt.title("Top 5 state by total number of prescribed medications") 
plt.show(g)


# Top 5 state by immigrants: 

query2 = """SELECT
  nppes_provider_state AS state,
  ROUND(SUM(total_claim_count) / 1e6) AS total_claim_count_millions
FROM
  `bigquery-public-data.cms_medicare.part_d_prescriber_2015`
GROUP BY
  state
ORDER BY
  total_claim_count_millions DESC
LIMIT
  5;
        """
response2 = medicare.query_to_pandas_safe(query2)
response2.head(5)


df1=response2

# to plot data 

import matplotlib.pyplot as plt
import numpy as np
import matplotlib.pyplot as plt
import seaborn as sns
plt.style.use('ggplot')
sns.set_context("notebook",font_scale=1.5, rc={"lines.linewidth":2.5})
f,g=plt.subplots(figsize=(12,9))

immgirants=[9.85, 4.34, 3.89, 3.392, 1.78] # number of immigrants in millions 
#immgirants=immgirants1/1000000
g=sns.barplot(x="state",y=immgirants,data=df,palette="Blues_d")
g.set_xticklabels(g.get_xticklabels(),rotation=30)
plt.title("Top 5 state by Immigrants") 
plt.ylabel('Immigrants in millions')



## Which providers have highest claims 

query3 = """SELECT
  generic_name AS drug_name,
  ROUND(SUM(total_claim_count) / 1e6) AS total_claim_count_millions,
  ROUND(SUM(total_day_supply) / 1e6) AS total_day_supply_millions,
  ROUND(SUM(total_drug_cost) / 1e6) AS total_drug_cost_millions
FROM
  `bigquery-public-data.cms_medicare.part_d_prescriber_2015`
GROUP BY
  drug_name
ORDER BY
  total_claim_count_millions DESC;
        """
response3 = medicare.query_to_pandas_safe(query3)
tempdf = response3.head(5)

# plotly makes all graph easier 

# Medicare cost data 

import plotly.plotly as py
from plotly.graph_objs import *
py.sign_in('username', 'api_key')
trace1 = {
  "x": [4935, 3770, 3150, 3105, 2402], 
  "y": [9634, 6970, 7522, 6463, 4842], 
  "marker": {
    "autocolorscale": False, 
    "cauto": True, 
    "cmax": 2750, 
    "cmin": 2710, 
    "color": [2750, 2739, 2728, 2717, "2710"], 
    "colorscale": [
      [0, "rgb(220,220,220)"], [0.2, "rgb(245,195,157)"], [0.4, "rgb(245,160,105)"], [1, "rgb(178,10,28)], 
    "colorsrc": "sskhan67:10:5feab2", 
    "line": {"width": 2}, 
    "size": [116, 91, 80, 76, 63], 
    "sizesrc": "sskhan67:10:b6ac18"
  }, 
  "mode": "markers", 
  "text": ["CA", "FL", "NY", "TX", "PA"], 
  "textsrc": "sskhan67:10:c680d2", 
  "type": "scatter", 
  "uid": "a24f9e20-c923-11e8-b88e-0242ac130002", 
  "xsrc": "sskhan67:10:852f40", 
  "ysrc": "sskhan67:10:dd7ee8"
}
data = Data([trace1])
layout = {
  "autosize": True, 
  "paper_bgcolor": "rgb(243, 243, 243)", 
  "plot_bgcolor": "rgb(243, 243, 243)", 
  "title": "Total claim count VS Total Drug Cost VS Total Day Supply for every state", 
  "xaxis": {
    "autorange": True, 
    "gridcolor": "rgb(255, 255, 255)", 
    "gridwidth": 2, 
    "range": [2076.57599264, 5394.62469511], 
    "ticklen": 5, 
    "title": "Total Day Supply", 
    "type": "linear", 
    "zerolinewidth": 1
  }, 
  "yaxis": {
    "autorange": True, 
    "gridcolor": "rgb(255, 255, 255)", 
    "gridwidth": 2, 
    "range": [2986.0480262, 12645.0183737], 
    "ticklen": 5, 
    "title": "Total Drug Cost", 
    "type": "linear", 
    "zerolinewidth": 1
  }
}
fig = Figure(data=data, layout=layout)
plot_url = py.plot(fig)

# commonly prescribed data by state wise
py.sign_in('username', 'api_key')
trace1 = {
  "hoverinfo": "label+percent", 
  "labels": ["LEVOTHYROXINE SODIUM", "HYDROCODONE/ACETAMINOPHEN", "LISINOPRIL", "AMLODIPINE BESYLATE", "ATORVASTATIN CALCIUM", "DABIGATRAN ETEXILATE MESYLATE", "GOLIMUMAB", "AMOXICILLIN", "ZIDOVUDINE", "PIMOZIDE", "DICLOFENAC SODIUM/MISOPROSTOL", "SIMVASTATIN"], 
  "labelssrc": "sskhan67:8:594878", 
  "marker": {"colors": ["lightblue", "gray", "#eee", "#999", "#9f9f"]}, 
  "name": "Top Drugs Used", 
  "textinfo": "value", 
  "type": "pie", 
  "uid": "a851726c-c923-11e8-b88e-0242ac130002", 
  "values": [25, 14, 9, 4, 2, 1, 1, 1, 1, 1, 1, 1], 
  "valuessrc": "sskhan67:8:85a6b0"
}
data = Data([trace1])
layout = {
  "autosize": True, 
  "title": "Top Drugs in Each State", 
  "xaxis": {
    "ticklen": 5, 
    "title": "Drug Name", 
    "zeroline": False
  }
}
fig = Figure(data=data, layout=layout)
plot_url = py.plot(fig)


# plot most prescribed drugs in USA

py.sign_in('username', 'api_key')
trace1 = {
  "x": ["LEVOTHYROXINE SODIUM", "LISINOPRIL", "AMLODIPINE BESYLATE", "SIMVASTATIN", "HYDROCODONE/ACETAMINOPHEN", "OMEPRAZOLE", "ATORVASTATIN CALCIUM", "METFORMIN HCL", "FUROSEMIDE", "GABAPENTIN", "METOPROLOL TARTRATE", "LOSARTAN POTASSIUM", "WARFARIN SODIUM", "POTASSIUM CHLORIDE", "HYDROCHLOROTHIAZIDE", "METOPROLOL SUCCINATE", "CLOPIDOGREL BISULFATE", "PRAVASTATIN SODIUM", "TRAMADOL HCL", "CARVEDILOL", "ATENOLOL", "ALPRAZOLAM", "TAMSULOSIN HCL", "PANTOPRAZOLE SODIUM", "SERTRALINE HCL", "LORAZEPAM", "PREDNISONE", "TRAZODONE HCL", "CITALOPRAM HYDROBROMIDE", "ALBUTEROL SULFATE", "ZOLPIDEM TARTRATE", "FLUTICASONE PROPIONATE", "OXYCODONE HCL/ACETAMINOPHEN", "CLONAZEPAM", "ROSUVASTATIN CALCIUM", "INSULIN GLARGINE,HUM.REC.ANLOG", "GLIPIZIDE", "ALLOPURINOL", "DONEPEZIL HCL", "MELOXICAM", "ESCITALOPRAM OXALATE", "ALENDRONATE SODIUM", "MONTELUKAST SODIUM", "ESOMEPRAZOLE MAGNESIUM", "RANITIDINE HCL", "QUETIAPINE FUMARATE", "DULOXETINE HCL", "OXYCODONE HCL", "MEMANTINE HCL", "LISINOPRIL/HYDROCHLOROTHIAZIDE"], 
  "y": [42, 38, 36, 34, 32, 32, 32, 27, 26, 21, 21, 18, 17, 17, 17, 17, 15, 14, 13, 13, 13, 13, 12, 11, 11, 10, 10, 10, 10, 10, 10, 10, 9, 9, 9, 8, 8, 8, 8, 8, 7, 7, 7, 7, 7, 7, 7, 7, 7, 7], 
  "name": "Total Claims", 
  "type": "bar", 
  "uid": "7bb642f4-0937-4578-9e90-2a3726e02079", 
  "xsrc": "sskhan67:4:31258e", 
  "ysrc": "sskhan67:4:2226ec"
}
trace2 = {
  "x": ["LEVOTHYROXINE SODIUM", "LISINOPRIL", "AMLODIPINE BESYLATE", "SIMVASTATIN", "HYDROCODONE/ACETAMINOPHEN", "OMEPRAZOLE", "ATORVASTATIN CALCIUM", "METFORMIN HCL", "FUROSEMIDE", "GABAPENTIN", "METOPROLOL TARTRATE", "LOSARTAN POTASSIUM", "WARFARIN SODIUM", "POTASSIUM CHLORIDE", "HYDROCHLOROTHIAZIDE", "METOPROLOL SUCCINATE", "CLOPIDOGREL BISULFATE", "PRAVASTATIN SODIUM", "TRAMADOL HCL", "CARVEDILOL", "ATENOLOL", "ALPRAZOLAM", "TAMSULOSIN HCL", "PANTOPRAZOLE SODIUM", "SERTRALINE HCL", "LORAZEPAM", "PREDNISONE", "TRAZODONE HCL", "CITALOPRAM HYDROBROMIDE", "ALBUTEROL SULFATE", "ZOLPIDEM TARTRATE", "FLUTICASONE PROPIONATE", "OXYCODONE HCL/ACETAMINOPHEN", "CLONAZEPAM", "ROSUVASTATIN CALCIUM", "INSULIN GLARGINE,HUM.REC.ANLOG", "GLIPIZIDE", "ALLOPURINOL", "DONEPEZIL HCL", "MELOXICAM", "ESCITALOPRAM OXALATE", "ALENDRONATE SODIUM", "MONTELUKAST SODIUM", "ESOMEPRAZOLE MAGNESIUM", "RANITIDINE HCL", "QUETIAPINE FUMARATE", "DULOXETINE HCL", "OXYCODONE HCL", "MEMANTINE HCL", "LISINOPRIL/HYDROCHLOROTHIAZIDE"], 
  "y": [2153, 1954, 1774, 1844, 656, 1487, 1689, 1355, 1077, 820, 995, 941, 648, 709, 948, 881, 690, 762, 322, 623, 732, 392, 561, 477, 456, 267, 242, 365, 434, 276, 328, 385, 179, 290, 405, 299, 379, 390, 297, 321, 256, 337, 296, 284, 288, 226, 242, 176, 174, 400], 
  "name": "Total Day Supply", 
  "type": "bar", 
  "uid": "ae647f01-e9df-45a7-ae3a-9339b7db8c7e", 
  "xsrc": "sskhan67:4:31258e", 
  "ysrc": "sskhan67:4:25251d"
}
trace3 = {
  "x": ["LEVOTHYROXINE SODIUM", "LISINOPRIL", "AMLODIPINE BESYLATE", "SIMVASTATIN", "HYDROCODONE/ACETAMINOPHEN", "OMEPRAZOLE", "ATORVASTATIN CALCIUM", "METFORMIN HCL", "FUROSEMIDE", "GABAPENTIN", "METOPROLOL TARTRATE", "LOSARTAN POTASSIUM", "WARFARIN SODIUM", "POTASSIUM CHLORIDE", "HYDROCHLOROTHIAZIDE", "METOPROLOL SUCCINATE", "CLOPIDOGREL BISULFATE", "PRAVASTATIN SODIUM", "TRAMADOL HCL", "CARVEDILOL", "ATENOLOL", "ALPRAZOLAM", "TAMSULOSIN HCL", "PANTOPRAZOLE SODIUM", "SERTRALINE HCL", "LORAZEPAM", "PREDNISONE", "TRAZODONE HCL", "CITALOPRAM HYDROBROMIDE", "ALBUTEROL SULFATE", "ZOLPIDEM TARTRATE", "FLUTICASONE PROPIONATE", "OXYCODONE HCL/ACETAMINOPHEN", "CLONAZEPAM", "ROSUVASTATIN CALCIUM", "INSULIN GLARGINE,HUM.REC.ANLOG", "GLIPIZIDE", "ALLOPURINOL", "DONEPEZIL HCL", "MELOXICAM", "ESCITALOPRAM OXALATE", "ALENDRONATE SODIUM", "MONTELUKAST SODIUM", "ESOMEPRAZOLE MAGNESIUM", "RANITIDINE HCL", "QUETIAPINE FUMARATE", "DULOXETINE HCL", "OXYCODONE HCL", "MEMANTINE HCL", "LISINOPRIL/HYDROCHLOROTHIAZIDE"], 
  "y": [831, 278, 302, 343, 669, 519, 748, 326, 133, 491, 144, 258, 194, 492, 104, 682, 339, 433, 131, 135, 94, 93, 274, 181, 123, 79, 80, 80, 80, 582, 109, 333, 492, 69, 2396, 3317, 97, 69, 200, 56, 148, 76, 198, 2422, 88, 848, 1358, 1126, 1686, 62], 
  "name": "Total Drug Cost", 
  "type": "bar", 
  "uid": "f5d83585-171b-4d84-8e6f-5334810b9050", 
  "xsrc": "sskhan67:4:31258e", 
  "ysrc": "sskhan67:4:ec5936"
}
data = Data([trace1, trace2, trace3])
layout = {
  "autosize": True, 
  "barmode": "group", 
  "dragmode": "zoom", 
  "margin": {"b": 200}, 
  "xaxis": {
    "autorange": False, 
    "range": [-0.5, 49.5], 
    "type": "category"
  }, 
  "yaxis": {
    "autorange": False, 
    "range": [0, 3491.57894737], 
    "type": "linear"
  }
}
fig = Figure(data=data, layout=layout)
plot_url = py.plot(fig)

